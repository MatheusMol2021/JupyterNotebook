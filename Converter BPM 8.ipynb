{
 "cells": [
  {
   "cell_type": "code",
   "execution_count": 1,
   "metadata": {},
   "outputs": [],
   "source": [
    "import os\n",
    "import pandas as pd\n",
    "from biosppy.signals import ecg"
   ]
  },
  {
   "cell_type": "code",
   "execution_count": 2,
   "metadata": {},
   "outputs": [],
   "source": [
    "# Diretorio dos arquivos\n",
    "dir_data = \"C:/Users\\mathe\\Documents\\Experimentos Anteprojeto\\MUSE - ECG DATASET\\ECGData1\"\n",
    "dir_target = \"C:/Users\\mathe\\Documents\\Experimentos Anteprojeto\\Diagnostics.xlsx\""
   ]
  },
  {
   "cell_type": "code",
   "execution_count": 3,
   "metadata": {},
   "outputs": [
    {
     "data": {
      "text/html": [
       "<div>\n",
       "<style scoped>\n",
       "    .dataframe tbody tr th:only-of-type {\n",
       "        vertical-align: middle;\n",
       "    }\n",
       "\n",
       "    .dataframe tbody tr th {\n",
       "        vertical-align: top;\n",
       "    }\n",
       "\n",
       "    .dataframe thead th {\n",
       "        text-align: right;\n",
       "    }\n",
       "</style>\n",
       "<table border=\"1\" class=\"dataframe\">\n",
       "  <thead>\n",
       "    <tr style=\"text-align: right;\">\n",
       "      <th></th>\n",
       "      <th>FileName</th>\n",
       "      <th>Rhythm</th>\n",
       "      <th>Beat</th>\n",
       "      <th>PatientAge</th>\n",
       "      <th>Gender</th>\n",
       "      <th>VentricularRate</th>\n",
       "      <th>AtrialRate</th>\n",
       "      <th>QRSDuration</th>\n",
       "      <th>QTInterval</th>\n",
       "      <th>QTCorrected</th>\n",
       "      <th>RAxis</th>\n",
       "      <th>TAxis</th>\n",
       "      <th>QRSCount</th>\n",
       "      <th>QOnset</th>\n",
       "      <th>QOffset</th>\n",
       "      <th>TOffset</th>\n",
       "    </tr>\n",
       "  </thead>\n",
       "  <tbody>\n",
       "    <tr>\n",
       "      <th>0</th>\n",
       "      <td>MUSE_20180113_171327_27000</td>\n",
       "      <td>AFIB</td>\n",
       "      <td>RBBB TWC</td>\n",
       "      <td>85</td>\n",
       "      <td>MALE</td>\n",
       "      <td>117</td>\n",
       "      <td>234</td>\n",
       "      <td>114</td>\n",
       "      <td>356</td>\n",
       "      <td>496</td>\n",
       "      <td>81</td>\n",
       "      <td>-27</td>\n",
       "      <td>19</td>\n",
       "      <td>208</td>\n",
       "      <td>265</td>\n",
       "      <td>386</td>\n",
       "    </tr>\n",
       "    <tr>\n",
       "      <th>1</th>\n",
       "      <td>MUSE_20180112_073319_29000</td>\n",
       "      <td>SB</td>\n",
       "      <td>TWC</td>\n",
       "      <td>59</td>\n",
       "      <td>FEMALE</td>\n",
       "      <td>52</td>\n",
       "      <td>52</td>\n",
       "      <td>92</td>\n",
       "      <td>432</td>\n",
       "      <td>401</td>\n",
       "      <td>76</td>\n",
       "      <td>42</td>\n",
       "      <td>8</td>\n",
       "      <td>215</td>\n",
       "      <td>261</td>\n",
       "      <td>431</td>\n",
       "    </tr>\n",
       "    <tr>\n",
       "      <th>2</th>\n",
       "      <td>MUSE_20180111_165520_97000</td>\n",
       "      <td>SA</td>\n",
       "      <td>NONE</td>\n",
       "      <td>20</td>\n",
       "      <td>FEMALE</td>\n",
       "      <td>67</td>\n",
       "      <td>67</td>\n",
       "      <td>82</td>\n",
       "      <td>382</td>\n",
       "      <td>403</td>\n",
       "      <td>88</td>\n",
       "      <td>20</td>\n",
       "      <td>11</td>\n",
       "      <td>224</td>\n",
       "      <td>265</td>\n",
       "      <td>415</td>\n",
       "    </tr>\n",
       "    <tr>\n",
       "      <th>3</th>\n",
       "      <td>MUSE_20180113_121940_44000</td>\n",
       "      <td>SB</td>\n",
       "      <td>NONE</td>\n",
       "      <td>66</td>\n",
       "      <td>MALE</td>\n",
       "      <td>53</td>\n",
       "      <td>53</td>\n",
       "      <td>96</td>\n",
       "      <td>456</td>\n",
       "      <td>427</td>\n",
       "      <td>34</td>\n",
       "      <td>3</td>\n",
       "      <td>9</td>\n",
       "      <td>219</td>\n",
       "      <td>267</td>\n",
       "      <td>447</td>\n",
       "    </tr>\n",
       "    <tr>\n",
       "      <th>4</th>\n",
       "      <td>MUSE_20180112_122850_57000</td>\n",
       "      <td>AF</td>\n",
       "      <td>STDD STTC</td>\n",
       "      <td>73</td>\n",
       "      <td>FEMALE</td>\n",
       "      <td>162</td>\n",
       "      <td>162</td>\n",
       "      <td>114</td>\n",
       "      <td>252</td>\n",
       "      <td>413</td>\n",
       "      <td>68</td>\n",
       "      <td>-40</td>\n",
       "      <td>26</td>\n",
       "      <td>228</td>\n",
       "      <td>285</td>\n",
       "      <td>354</td>\n",
       "    </tr>\n",
       "  </tbody>\n",
       "</table>\n",
       "</div>"
      ],
      "text/plain": [
       "                     FileName Rhythm       Beat  PatientAge  Gender  \\\n",
       "0  MUSE_20180113_171327_27000   AFIB   RBBB TWC          85    MALE   \n",
       "1  MUSE_20180112_073319_29000     SB        TWC          59  FEMALE   \n",
       "2  MUSE_20180111_165520_97000     SA       NONE          20  FEMALE   \n",
       "3  MUSE_20180113_121940_44000     SB       NONE          66    MALE   \n",
       "4  MUSE_20180112_122850_57000     AF  STDD STTC          73  FEMALE   \n",
       "\n",
       "   VentricularRate  AtrialRate  QRSDuration  QTInterval  QTCorrected  RAxis  \\\n",
       "0              117         234          114         356          496     81   \n",
       "1               52          52           92         432          401     76   \n",
       "2               67          67           82         382          403     88   \n",
       "3               53          53           96         456          427     34   \n",
       "4              162         162          114         252          413     68   \n",
       "\n",
       "   TAxis  QRSCount  QOnset  QOffset  TOffset  \n",
       "0    -27        19     208      265      386  \n",
       "1     42         8     215      261      431  \n",
       "2     20        11     224      265      415  \n",
       "3      3         9     219      267      447  \n",
       "4    -40        26     228      285      354  "
      ]
     },
     "execution_count": 3,
     "metadata": {},
     "output_type": "execute_result"
    }
   ],
   "source": [
    "dfclas = pd.read_excel(dir_target)\n",
    "dfclas.head()"
   ]
  },
  {
   "cell_type": "code",
   "execution_count": 4,
   "metadata": {},
   "outputs": [
    {
     "data": {
      "text/plain": [
       "['MUSE_20180111_155115_19000.csv',\n",
       " 'MUSE_20180111_155154_74000.csv',\n",
       " 'MUSE_20180111_155203_15000.csv',\n",
       " 'MUSE_20180111_155249_70000.csv',\n",
       " 'MUSE_20180111_155542_84000.csv']"
      ]
     },
     "execution_count": 4,
     "metadata": {},
     "output_type": "execute_result"
    }
   ],
   "source": [
    "nomes = []\n",
    "\n",
    "for diretorio, subpastas, arquivos in os.walk(dir_data):\n",
    "    for arquivo in arquivos:\n",
    "        a = os.path.join(diretorio, arquivo)                      # Variável com o nome do Diretório do arquivo\n",
    "        #df = pd.read_csv(a)                                       # Abre o arquivo do Diretório\n",
    "        nomes.append(arquivo)                                        # Adiciona od dados BPM em uma lista\n",
    "\n",
    "\n",
    "nomes"
   ]
  },
  {
   "cell_type": "code",
   "execution_count": 5,
   "metadata": {},
   "outputs": [
    {
     "data": {
      "text/plain": [
       "[array([131.23061796, 126.66537003, 123.73989647, 123.37773509,\n",
       "        125.01750946, 126.43023814, 126.79239952, 128.57353375,\n",
       "        128.75694595, 124.63194182, 123.72258637, 123.90757971,\n",
       "        130.34258615, 130.70168481, 125.33408559, 121.78281648,\n",
       "        120.72340092, 125.9060068 , 127.3306858 ]),\n",
       " array([114.03818953, 102.95237937,  91.09640747, 113.73729715,\n",
       "        119.86278986, 116.92665088, 103.89754712, 102.09379532,\n",
       "        110.12183693, 110.47979798, 109.63804714, 105.42929293,\n",
       "        113.997114  , 125.74056476, 132.39311174, 129.4256491 ]),\n",
       " array([66.81256097, 75.43377035, 79.5676889 , 71.69135637, 56.49653411,\n",
       "        48.11067098, 44.77937202, 58.6673891 , 70.23373788]),\n",
       " array([117.21932233, 117.21932233, 117.06370937, 118.42146214,\n",
       "        116.91858413, 116.91858413, 116.76297117, 118.11023622,\n",
       "        117.80265748, 116.45539243, 116.30099996, 116.76419166,\n",
       "        118.11145671, 117.95827044, 116.45539243, 116.30099996,\n",
       "        116.76419166, 118.26706967]),\n",
       " array([ 85.7693227 ,  80.3772154 ,  93.77895042,  94.63967505,\n",
       "        100.13353038,  80.99432218,  79.98836692,  84.80419102,\n",
       "        106.31357806, 117.60634486, 104.31581738, 100.7496332 ,\n",
       "        111.57990528])]"
      ]
     },
     "execution_count": 5,
     "metadata": {},
     "output_type": "execute_result"
    }
   ],
   "source": [
    "indvíduo = []\n",
    "classe = []\n",
    "anomalia = []\n",
    "listaBPM = []\n",
    "\n",
    "for diretorio, subpastas, arquivos in os.walk(dir_data):\n",
    "    for arquivo in arquivos:\n",
    "        \n",
    "        # Lista o Arquivo\n",
    "        #print(arquivo)\n",
    "        \n",
    "        # Nome do indivíduo\n",
    "        b = arquivo.replace(\".csv\",\"\")                           # Define o nome do indivíduo, de acordo com o arquivo\n",
    "        indvíduo.append(b)\n",
    "        c = dfclas.loc[dfclas['FileName'] == b]                  # Procura a linha que tem os dados do indivído\n",
    "        d = str(c['Rhythm'])                                     # Procura a coluna com os dados do indivíduo\n",
    "        e = d.split()                                            # Separa os dados em strings\n",
    "        #print(e[1])                                              # imprime somente o indice que tem a classificação\n",
    "        classe.append(e[1])\n",
    "        \n",
    "        # Classificação binaria anomalia = 1, normal = 0\n",
    "        if e[1] == 'SR':\n",
    "            #print('1')\n",
    "            anomalia.append(1)\n",
    "        else:\n",
    "            #print('0')\n",
    "            anomalia.append(0)\n",
    "        \n",
    "        # Converte BPM\n",
    "        a = os.path.join(diretorio, arquivo)                      # Variável com o nome do Diretório do arquivo\n",
    "        df = pd.read_csv(a)                                       # Abre o arquivo do Diretório\n",
    "        y = df[\"II\"].values                                       # Valores para y correspondem a Temperatura aparente\n",
    "        out = ecg.ecg(signal=y, sampling_rate=500., show=False)   # Insere os dados na biblioteca SSPY\n",
    "        z = out['heart_rate']                                     # Extrai os dados em BPM\n",
    "        listaBPM.append(z)                                        # Adiciona od dados BPM em uma lista\n",
    "       \n",
    "\"\"\"        s1 = pd.Series([b, classe, anomalia, z])\n",
    "\n",
    "        df = pd.DataFrame([list(s1)],  columns =  [\"Nome\", \"Classe\", \"Anomalia\", \"BPM\"])\n",
    "        df\n",
    "\"\"\"\n",
    "\n",
    "listaBPM\n",
    "\n",
    "\n"
   ]
  },
  {
   "cell_type": "code",
   "execution_count": 6,
   "metadata": {},
   "outputs": [
    {
     "data": {
      "text/plain": [
       "['MUSE_20180111_155115_19000',\n",
       " 'MUSE_20180111_155154_74000',\n",
       " 'MUSE_20180111_155203_15000',\n",
       " 'MUSE_20180111_155249_70000',\n",
       " 'MUSE_20180111_155542_84000']"
      ]
     },
     "execution_count": 6,
     "metadata": {},
     "output_type": "execute_result"
    }
   ],
   "source": [
    "indvíduo"
   ]
  },
  {
   "cell_type": "code",
   "execution_count": 7,
   "metadata": {},
   "outputs": [
    {
     "data": {
      "text/plain": [
       "['ST', 'AFIB', 'AFIB', 'ST', 'AF']"
      ]
     },
     "execution_count": 7,
     "metadata": {},
     "output_type": "execute_result"
    }
   ],
   "source": [
    "classe\n"
   ]
  },
  {
   "cell_type": "code",
   "execution_count": 8,
   "metadata": {},
   "outputs": [
    {
     "data": {
      "text/plain": [
       "[0, 0, 0, 0, 0]"
      ]
     },
     "execution_count": 8,
     "metadata": {},
     "output_type": "execute_result"
    }
   ],
   "source": [
    "anomalia"
   ]
  },
  {
   "cell_type": "code",
   "execution_count": 9,
   "metadata": {},
   "outputs": [
    {
     "data": {
      "text/html": [
       "<div>\n",
       "<style scoped>\n",
       "    .dataframe tbody tr th:only-of-type {\n",
       "        vertical-align: middle;\n",
       "    }\n",
       "\n",
       "    .dataframe tbody tr th {\n",
       "        vertical-align: top;\n",
       "    }\n",
       "\n",
       "    .dataframe thead th {\n",
       "        text-align: right;\n",
       "    }\n",
       "</style>\n",
       "<table border=\"1\" class=\"dataframe\">\n",
       "  <thead>\n",
       "    <tr style=\"text-align: right;\">\n",
       "      <th></th>\n",
       "      <th>Indivíduo</th>\n",
       "      <th>Classe</th>\n",
       "      <th>Anomalia</th>\n",
       "      <th>BPM</th>\n",
       "    </tr>\n",
       "  </thead>\n",
       "  <tbody>\n",
       "    <tr>\n",
       "      <th>0</th>\n",
       "      <td>MUSE_20180111_155115_19000</td>\n",
       "      <td>ST</td>\n",
       "      <td>0</td>\n",
       "      <td>[131.23061795628166, 126.66537002820186, 123.7...</td>\n",
       "    </tr>\n",
       "    <tr>\n",
       "      <th>1</th>\n",
       "      <td>MUSE_20180111_155154_74000</td>\n",
       "      <td>AFIB</td>\n",
       "      <td>0</td>\n",
       "      <td>[114.03818953323903, 102.95237937024766, 91.09...</td>\n",
       "    </tr>\n",
       "    <tr>\n",
       "      <th>2</th>\n",
       "      <td>MUSE_20180111_155203_15000</td>\n",
       "      <td>AFIB</td>\n",
       "      <td>0</td>\n",
       "      <td>[66.81256097239432, 75.43377035323475, 79.5676...</td>\n",
       "    </tr>\n",
       "    <tr>\n",
       "      <th>3</th>\n",
       "      <td>MUSE_20180111_155249_70000</td>\n",
       "      <td>ST</td>\n",
       "      <td>0</td>\n",
       "      <td>[117.21932233050717, 117.21932233050718, 117.0...</td>\n",
       "    </tr>\n",
       "    <tr>\n",
       "      <th>4</th>\n",
       "      <td>MUSE_20180111_155542_84000</td>\n",
       "      <td>AF</td>\n",
       "      <td>0</td>\n",
       "      <td>[85.76932270356154, 80.37721540062621, 93.7789...</td>\n",
       "    </tr>\n",
       "  </tbody>\n",
       "</table>\n",
       "</div>"
      ],
      "text/plain": [
       "                    Indivíduo Classe  Anomalia  \\\n",
       "0  MUSE_20180111_155115_19000     ST         0   \n",
       "1  MUSE_20180111_155154_74000   AFIB         0   \n",
       "2  MUSE_20180111_155203_15000   AFIB         0   \n",
       "3  MUSE_20180111_155249_70000     ST         0   \n",
       "4  MUSE_20180111_155542_84000     AF         0   \n",
       "\n",
       "                                                 BPM  \n",
       "0  [131.23061795628166, 126.66537002820186, 123.7...  \n",
       "1  [114.03818953323903, 102.95237937024766, 91.09...  \n",
       "2  [66.81256097239432, 75.43377035323475, 79.5676...  \n",
       "3  [117.21932233050717, 117.21932233050718, 117.0...  \n",
       "4  [85.76932270356154, 80.37721540062621, 93.7789...  "
      ]
     },
     "execution_count": 9,
     "metadata": {},
     "output_type": "execute_result"
    }
   ],
   "source": [
    "\"\"\"s1 = pd.Series([5, 6, 7])\n",
    "s2 = pd.Series([7, 8, 9])\"\"\"\n",
    "\n",
    "df1 = pd.DataFrame(columns =  [\"Indivíduo\", \"Classe\", \"Anomalia\", \"BPM\"])\n",
    "i = 0\n",
    "\n",
    "for item in indvíduo:\n",
    "    df1.loc[i] = [indvíduo[i], classe[i], anomalia[i], listaBPM[i]]  # adding a row\n",
    "    i += 1\n",
    "    \n",
    "    \n",
    "df1"
   ]
  },
  {
   "cell_type": "code",
   "execution_count": 10,
   "metadata": {},
   "outputs": [
    {
     "data": {
      "text/plain": [
       "array([117.21932233, 117.21932233, 117.06370937, 118.42146214,\n",
       "       116.91858413, 116.91858413, 116.76297117, 118.11023622,\n",
       "       117.80265748, 116.45539243, 116.30099996, 116.76419166,\n",
       "       118.11145671, 117.95827044, 116.45539243, 116.30099996,\n",
       "       116.76419166, 118.26706967])"
      ]
     },
     "execution_count": 10,
     "metadata": {},
     "output_type": "execute_result"
    }
   ],
   "source": [
    "df1['BPM'][3]"
   ]
  },
  {
   "cell_type": "code",
   "execution_count": 11,
   "metadata": {},
   "outputs": [],
   "source": [
    "df1.to_csv('nova_base.csv')"
   ]
  }
 ],
 "metadata": {
  "kernelspec": {
   "display_name": "Python 3.9.6 64-bit",
   "language": "python",
   "name": "python3"
  },
  "language_info": {
   "codemirror_mode": {
    "name": "ipython",
    "version": 3
   },
   "file_extension": ".py",
   "mimetype": "text/x-python",
   "name": "python",
   "nbconvert_exporter": "python",
   "pygments_lexer": "ipython3",
   "version": "3.9.6"
  },
  "orig_nbformat": 4,
  "vscode": {
   "interpreter": {
    "hash": "aabdcabb1ce183cf2e0b393220d39e588eba15c9156edfaebeefbd82b848687e"
   }
  }
 },
 "nbformat": 4,
 "nbformat_minor": 2
}
