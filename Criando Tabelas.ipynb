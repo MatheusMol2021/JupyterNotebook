{
 "cells": [
  {
   "cell_type": "markdown",
   "metadata": {},
   "source": [
    "#Exemplo para título"
   ]
  },
  {
   "cell_type": "code",
   "execution_count": 1,
   "metadata": {},
   "outputs": [
    {
     "name": "stdout",
     "output_type": "stream",
     "text": [
      "olá mundo\n"
     ]
    }
   ],
   "source": [
    "print (\"olá mundo\")"
   ]
  },
  {
   "cell_type": "markdown",
   "metadata": {},
   "source": [
    "Criando tabela biblioteca \"pandas\""
   ]
  },
  {
   "cell_type": "code",
   "execution_count": 7,
   "metadata": {},
   "outputs": [
    {
     "data": {
      "text/html": [
       "<div>\n",
       "<style scoped>\n",
       "    .dataframe tbody tr th:only-of-type {\n",
       "        vertical-align: middle;\n",
       "    }\n",
       "\n",
       "    .dataframe tbody tr th {\n",
       "        vertical-align: top;\n",
       "    }\n",
       "\n",
       "    .dataframe thead th {\n",
       "        text-align: right;\n",
       "    }\n",
       "</style>\n",
       "<table border=\"1\" class=\"dataframe\">\n",
       "  <thead>\n",
       "    <tr style=\"text-align: right;\">\n",
       "      <th></th>\n",
       "      <th>A</th>\n",
       "      <th>B</th>\n",
       "      <th>C</th>\n",
       "      <th>D</th>\n",
       "      <th>E</th>\n",
       "      <th>F</th>\n",
       "      <th>G</th>\n",
       "    </tr>\n",
       "  </thead>\n",
       "  <tbody>\n",
       "    <tr>\n",
       "      <th>ANA</th>\n",
       "      <td>156</td>\n",
       "      <td>101</td>\n",
       "      <td>141</td>\n",
       "      <td>129</td>\n",
       "      <td>177</td>\n",
       "      <td>184</td>\n",
       "      <td>143</td>\n",
       "    </tr>\n",
       "    <tr>\n",
       "      <th>MARIA</th>\n",
       "      <td>183</td>\n",
       "      <td>130</td>\n",
       "      <td>118</td>\n",
       "      <td>188</td>\n",
       "      <td>131</td>\n",
       "      <td>126</td>\n",
       "      <td>132</td>\n",
       "    </tr>\n",
       "    <tr>\n",
       "      <th>JOANA</th>\n",
       "      <td>112</td>\n",
       "      <td>139</td>\n",
       "      <td>177</td>\n",
       "      <td>105</td>\n",
       "      <td>173</td>\n",
       "      <td>197</td>\n",
       "      <td>123</td>\n",
       "    </tr>\n",
       "    <tr>\n",
       "      <th>JORGE</th>\n",
       "      <td>199</td>\n",
       "      <td>148</td>\n",
       "      <td>178</td>\n",
       "      <td>143</td>\n",
       "      <td>153</td>\n",
       "      <td>177</td>\n",
       "      <td>125</td>\n",
       "    </tr>\n",
       "    <tr>\n",
       "      <th>PEDRO</th>\n",
       "      <td>100</td>\n",
       "      <td>128</td>\n",
       "      <td>195</td>\n",
       "      <td>106</td>\n",
       "      <td>198</td>\n",
       "      <td>184</td>\n",
       "      <td>121</td>\n",
       "    </tr>\n",
       "    <tr>\n",
       "      <th>MATHEUS</th>\n",
       "      <td>122</td>\n",
       "      <td>180</td>\n",
       "      <td>121</td>\n",
       "      <td>187</td>\n",
       "      <td>151</td>\n",
       "      <td>165</td>\n",
       "      <td>111</td>\n",
       "    </tr>\n",
       "    <tr>\n",
       "      <th>VALL</th>\n",
       "      <td>118</td>\n",
       "      <td>166</td>\n",
       "      <td>131</td>\n",
       "      <td>162</td>\n",
       "      <td>117</td>\n",
       "      <td>161</td>\n",
       "      <td>153</td>\n",
       "    </tr>\n",
       "    <tr>\n",
       "      <th>NINA</th>\n",
       "      <td>119</td>\n",
       "      <td>110</td>\n",
       "      <td>110</td>\n",
       "      <td>114</td>\n",
       "      <td>152</td>\n",
       "      <td>150</td>\n",
       "      <td>165</td>\n",
       "    </tr>\n",
       "  </tbody>\n",
       "</table>\n",
       "</div>"
      ],
      "text/plain": [
       "           A    B    C    D    E    F    G\n",
       "ANA      156  101  141  129  177  184  143\n",
       "MARIA    183  130  118  188  131  126  132\n",
       "JOANA    112  139  177  105  173  197  123\n",
       "JORGE    199  148  178  143  153  177  125\n",
       "PEDRO    100  128  195  106  198  184  121\n",
       "MATHEUS  122  180  121  187  151  165  111\n",
       "VALL     118  166  131  162  117  161  153\n",
       "NINA     119  110  110  114  152  150  165"
      ]
     },
     "execution_count": 7,
     "metadata": {},
     "output_type": "execute_result"
    }
   ],
   "source": [
    "import pandas as pd  # usado na geração de tabelas\n",
    "import numpy as np   # usado na geração de numeros aleatorios\n",
    "\n",
    "coluna = 'A B C D E F G'.split()\n",
    "linha = 'ANA MARIA JOANA JORGE PEDRO MATHEUS VALL NINA'.split()\n",
    "dados = np.random.randint(100,200, len(linha)*len(coluna)).reshape(len(linha),len(coluna))\n",
    "\n",
    "\n",
    "#print (f'Número de Colunas : {len(coluna)}')\n",
    "#print (f'Número de Lnhas : {len(linha)}')\n",
    "#print (f'Número de dados : {len(dados)}')\n",
    "\n",
    "tabela = pd.DataFrame(data = dados, index = linha, columns = coluna,)\n",
    "\n",
    "tabela"
   ]
  }
 ],
 "metadata": {
  "interpreter": {
   "hash": "5b8f308924465f2179e69d653b80ba35d48a4f2127dd0e955dba06c7ac38bae4"
  },
  "kernelspec": {
   "display_name": "Python 3.9.9 64-bit (windows store)",
   "language": "python",
   "name": "python3"
  },
  "language_info": {
   "codemirror_mode": {
    "name": "ipython",
    "version": 3
   },
   "file_extension": ".py",
   "mimetype": "text/x-python",
   "name": "python",
   "nbconvert_exporter": "python",
   "pygments_lexer": "ipython3",
   "version": "3.9.9"
  },
  "orig_nbformat": 4
 },
 "nbformat": 4,
 "nbformat_minor": 2
}
